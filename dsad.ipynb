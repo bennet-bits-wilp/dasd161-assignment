{
 "cells": [
  {
   "cell_type": "code",
   "execution_count": 25,
   "id": "e62aa64e",
   "metadata": {},
   "outputs": [],
   "source": [
    "def readInput():\n",
    "    try:\n",
    "        f = open(\"inputPS07.txt\", \"r\")\n",
    "        lines = f.readlines()\n",
    "        f.close()\n",
    "        if len(lines) == 2:\n",
    "            lines[1] = lines[1].split(' ')\n",
    "            return lines\n",
    "        else:\n",
    "            print(\"Incorrect structure of input file\")\n",
    "            quit()\n",
    "    except:\n",
    "        print(\"Input file is not found\")\n",
    "        quit()\n",
    "lines = readInput()\n",
    "    \n",
    "noOfDisks = int(lines[0])\n",
    "disks = lines[1]"
   ]
  },
  {
   "cell_type": "code",
   "execution_count": 26,
   "id": "4ebbaee2",
   "metadata": {},
   "outputs": [],
   "source": [
    "def getDisk(day):\n",
    "    if day < noOfDisks and day >= 0:\n",
    "        return int(disks[day])\n",
    "    else:\n",
    "        print(\"Requested day\", day, \" is out of boundery\")\n",
    "        quit()"
   ]
  },
  {
   "cell_type": "code",
   "execution_count": 27,
   "id": "1a84ab9d",
   "metadata": {},
   "outputs": [],
   "source": [
    "stack = []\n",
    "def push(value):\n",
    "    if len(stack) >= noOfDisks:\n",
    "        print ('Stack size exceeded')\n",
    "        quit()\n",
    "    else:\n",
    "        stack.append(value)\n",
    "        \n",
    "def pop():\n",
    "    if len(stack) == 0:\n",
    "        return 'false'\n",
    "    else:\n",
    "        return stack.pop()\n",
    "    \n",
    "def top():\n",
    "    if len(stack) == 0:\n",
    "        return 'false'\n",
    "    else:\n",
    "        return stack[len(stack) - 1]\n",
    "    \n",
    "# Python program to sort a stack using recursion\n",
    "# Recursive method to insert element in sorted way\n",
    "def sortedInsert(element):\n",
    "    # Base case: Either stack is empty or newly inserted\n",
    "    # item is greater than top (more than all existing)\n",
    "    if len(stack) == 0 or element > top():\n",
    "        push(element)\n",
    "    else:\n",
    "         # Remove the top item and recur\n",
    "        temp = pop()\n",
    "        sortedInsert(element)\n",
    " \n",
    "        # Put back the top item removed earlier\n",
    "        push(temp)"
   ]
  },
  {
   "cell_type": "code",
   "execution_count": 28,
   "id": "d1efea38",
   "metadata": {},
   "outputs": [],
   "source": [
    "def outputData(data, newLine = 0):\n",
    "    f = open(\"outputPS07.txt\", \"a\")\n",
    "    f.write(\" \")\n",
    "    f.write(str(data))\n",
    "    if newLine == 1:\n",
    "        f.write(\"\\r\\n\")\n",
    "    f.close()"
   ]
  },
  {
   "cell_type": "code",
   "execution_count": 29,
   "id": "fbfcaec9",
   "metadata": {},
   "outputs": [
    {
     "name": "stdout",
     "output_type": "stream",
     "text": [
      "['5', '6', '4', '2', '1', '3']\n"
     ]
    }
   ],
   "source": [
    "print (disks)"
   ]
  },
  {
   "cell_type": "code",
   "execution_count": 30,
   "id": "319e843d",
   "metadata": {},
   "outputs": [],
   "source": [
    "counter = 0\n",
    "expectedDisk = noOfDisks\n",
    "while counter < noOfDisks:\n",
    "    inputDisk = getDisk (counter)\n",
    "    counter += 1\n",
    "    if inputDisk == expectedDisk:\n",
    "        outputData ('>')\n",
    "        outputData(inputDisk)\n",
    "        expectedDisk -= 1\n",
    "        while 1:\n",
    "            stackElt = pop()\n",
    "            if stackElt == 'false':\n",
    "                break\n",
    "                \n",
    "            if expectedDisk == stackElt:\n",
    "                outputData (stackElt)\n",
    "                expectedDisk -= 1\n",
    "            else:\n",
    "                outputData (\"\\r\\n\")\n",
    "                push (stackElt)\n",
    "                break\n",
    "        if expectedDisk != 0:\n",
    "            outputData (\"\\r\\n\")\n",
    "    else:\n",
    "        outputData ('>', 1)\n",
    "        sortedInsert(inputDisk)"
   ]
  },
  {
   "cell_type": "markdown",
   "id": "1b87fd49",
   "metadata": {},
   "source": [
    "<b>verify output</b>"
   ]
  },
  {
   "cell_type": "code",
   "execution_count": 31,
   "id": "86f67c22",
   "metadata": {},
   "outputs": [
    {
     "name": "stdout",
     "output_type": "stream",
     "text": [
      " >\n",
      "\n",
      " > 6 5 \n",
      "\n",
      " > 4 \n",
      "\n",
      " >\n",
      "\n",
      " >\n",
      "\n",
      " > 3 2 1\n"
     ]
    }
   ],
   "source": [
    "f = open(\"outputPS07.txt\", \"r\")\n",
    "lines = f.readlines()\n",
    "f.close()\n",
    "i = 0\n",
    "while i < len(lines):\n",
    "    print (lines[i])\n",
    "    i += 1"
   ]
  },
  {
   "cell_type": "code",
   "execution_count": null,
   "id": "ea2f7d35",
   "metadata": {},
   "outputs": [],
   "source": []
  }
 ],
 "metadata": {
  "kernelspec": {
   "display_name": "Python 3 (ipykernel)",
   "language": "python",
   "name": "python3"
  },
  "language_info": {
   "codemirror_mode": {
    "name": "ipython",
    "version": 3
   },
   "file_extension": ".py",
   "mimetype": "text/x-python",
   "name": "python",
   "nbconvert_exporter": "python",
   "pygments_lexer": "ipython3",
   "version": "3.9.13"
  }
 },
 "nbformat": 4,
 "nbformat_minor": 5
}
